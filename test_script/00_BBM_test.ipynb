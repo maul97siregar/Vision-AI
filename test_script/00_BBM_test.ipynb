{
 "cells": [
  {
   "cell_type": "code",
   "execution_count": null,
   "metadata": {},
   "outputs": [],
   "source": [
    "# import os\n",
    "# import sys\n",
    "# module_path = os.path.abspath(os.path.join('..', 'NawaAI'))\n",
    "# if module_path not in sys.path:\n",
    "#     sys.path.append(module_path)\n",
    "\n",
    "# os.chdir(r'F:\\NawaAI')\n",
    "# print(os.getcwd())"
   ]
  },
  {
   "cell_type": "code",
   "execution_count": 4,
   "metadata": {},
   "outputs": [
    {
     "name": "stdout",
     "output_type": "stream",
     "text": [
      "20\n"
     ]
    }
   ],
   "source": [
    "a = 20\n",
    "class A():\n",
    "    global a\n",
    "\n",
    "    b = a\n",
    "\n",
    "\n",
    "    def c(self):\n",
    "        print(self.b)\n",
    "\n",
    "AA = A()\n",
    "\n",
    "AA.c()"
   ]
  },
  {
   "cell_type": "code",
   "execution_count": 1,
   "metadata": {},
   "outputs": [
    {
     "name": "stdout",
     "output_type": "stream",
     "text": [
      "load_model: 21.97\n"
     ]
    }
   ],
   "source": [
    "import cv2\n",
    "import numpy as np\n",
    "import model_predict\n",
    "import spacy\n",
    "import time\n",
    "\n",
    "start_time = time.time()\n",
    "model_folder = r'data\\model_ner\\model_bbm'\n",
    "nlp = spacy.load(model_folder)\n",
    "finish_time_load_model = (time.time() - start_time)\n",
    "print(f\"load_model: {str(finish_time_load_model)[:5]}\")"
   ]
  },
  {
   "cell_type": "code",
   "execution_count": 2,
   "metadata": {},
   "outputs": [],
   "source": [
    "def predict(img_path):\n",
    "    start_time = time.time()\n",
    "    result = model_predict.ner_bbm(nlp, img_file=img_path, debug=False, line_sensitivity=0.2)\n",
    "    finish_time_predict = (time.time() - start_time)\n",
    "    display(result)\n",
    "    print(f'predict: {str(finish_time_predict)[:5]}')\n",
    "\n",
    "import requests\n",
    "import json\n",
    "\n",
    "def predict_api(img_path):\n",
    "    url = \"http://127.0.0.1/predict\"\n",
    "    with open(img_path, 'rb') as img_file:\n",
    "        files = {\"image\" : img_file}\n",
    "        response = requests.post(url, files=files)\n",
    "    display(json.loads(response.text))"
   ]
  },
  {
   "cell_type": "code",
   "execution_count": 3,
   "metadata": {},
   "outputs": [
    {
     "name": "stdout",
     "output_type": "stream",
     "text": [
      "F:\\NawaAI\\Notebooks\\DEV_NER\\BBM\\data\\struk_bbm_pertamina\\KAA.png\n"
     ]
    },
    {
     "data": {
      "text/plain": [
       "('text line:',\n",
       " ['log 818km',\n",
       "  'PERTAMINA',\n",
       "  '8499902',\n",
       "  'SPBU TUS SUDARSO 10 , TIMIK',\n",
       "  'JL . YOS SUDARSO 40. 10 , TIMITA',\n",
       "  'Shift : 1 No. Trans : 32431 /',\n",
       "  '* aktu : 01/11/2022 11:48:04',\n",
       "  'Pulau / Porpa : 1',\n",
       "  'Nara Produk : PERTALITE',\n",
       "  'Harga / Liter : Rp . 10,000',\n",
       "  'Volume : ( L ) 30.000',\n",
       "  'Total Harga : Rp . 300,000',\n",
       "  'Operator : HILMI',\n",
       "  'CASH',\n",
       "  '300,000',\n",
       "  'No. Plat P1685.0',\n",
       "  'TERIMA KASIH SELAMAT JALAN',\n",
       "  'SUBSIDI BULAN OKTOBER 2022 : BIO',\n",
       "  'SOLAR Rp 8.050 / liter DAN PERTALI',\n",
       "  'TE Rp 2.050 / LITER',\n",
       "  'MARI GUNAKAN PERTAMAX SERIES DAN',\n",
       "  'DEX SERIES , SUBSIDI HANYA UNTUK',\n",
       "  'YANG BERHAK MENERIMA'])"
      ]
     },
     "metadata": {},
     "output_type": "display_data"
    },
    {
     "data": {
      "text/plain": [
       "{'spbucode': 'PERTAMINA 8499902',\n",
       " 'spbuname': 'SPBU TUS SUDARSO',\n",
       " 'custaddress': 'JL . YOS SUDARSO 40. 10 , TIMITA',\n",
       " 'transactiondate': '01-11-2022 11:48:04',\n",
       " 'pumpnumber': '1',\n",
       " 'product': 'Pertalite',\n",
       " 'rate': '10,000',\n",
       " 'quantity': '30.000',\n",
       " 'bill': '300000',\n",
       " 'customerId': '',\n",
       " 'billingtype': 'Bensin',\n",
       " 'custname': '',\n",
       " 'listTransaction': [],\n",
       " 'transactiontype': 'BBM'}"
      ]
     },
     "metadata": {},
     "output_type": "display_data"
    },
    {
     "name": "stdout",
     "output_type": "stream",
     "text": [
      "predict: 1.631\n"
     ]
    }
   ],
   "source": [
    "import glob\n",
    "\n",
    "# img_paths = glob.glob(r\"F:\\Project_Base\\oneapps\\Backend\\Vision\\test_images\\*\")\n",
    "img_paths = [r\"F:\\NawaAI\\Notebooks\\DEV_NER\\BBM\\data\\struk_bbm_pertamina\\KAA.png\"]\n",
    "for img in img_paths:\n",
    "    print(img)\n",
    "    predict(img)\n",
    "    # predict_api(img)"
   ]
  },
  {
   "cell_type": "code",
   "execution_count": 33,
   "metadata": {},
   "outputs": [
    {
     "ename": "NameError",
     "evalue": "name 'adfadfads' is not defined",
     "output_type": "error",
     "traceback": [
      "\u001b[1;31m---------------------------------------------------------------------------\u001b[0m",
      "\u001b[1;31mNameError\u001b[0m                                 Traceback (most recent call last)",
      "Cell \u001b[1;32mIn[33], line 1\u001b[0m\n\u001b[1;32m----> 1\u001b[0m adfadfads\n",
      "\u001b[1;31mNameError\u001b[0m: name 'adfadfads' is not defined"
     ]
    }
   ],
   "source": [
    "adfadfads"
   ]
  },
  {
   "attachments": {},
   "cell_type": "markdown",
   "metadata": {},
   "source": [
    "# BULK TEST"
   ]
  },
  {
   "cell_type": "code",
   "execution_count": 34,
   "metadata": {},
   "outputs": [
    {
     "data": {
      "application/vnd.jupyter.widget-view+json": {
       "model_id": "d1e935cccb9c40238ae0036a8c74ef2c",
       "version_major": 2,
       "version_minor": 0
      },
      "text/plain": [
       "0it [00:00, ?it/s]"
      ]
     },
     "metadata": {},
     "output_type": "display_data"
    }
   ],
   "source": [
    "import glob\n",
    "from tqdm.notebook import tqdm\n",
    "\n",
    "imgs = glob.glob(r'data\\BBM\\struk_*\\*')\n",
    "\n",
    "for img in tqdm(imgs):\n",
    "    print(img)\n",
    "    img = cv2.imread(img)\n",
    "    img_bytes = cv2.imencode(\".jpg\", img)[1]\n",
    "    byte_array = np.array(img_bytes).tobytes()\n",
    "    result = model_predict.ner_bbm(nlp, img_fastapi=byte_array, debug=False, line_sensitivity=0.2)\n",
    "    result_old = model_predict_old.ner_bbm(nlp, img_fastapi=byte_array, debug=False)\n",
    "    display(result_old, result)"
   ]
  }
 ],
 "metadata": {
  "kernelspec": {
   "display_name": "Python 3",
   "language": "python",
   "name": "python3"
  },
  "language_info": {
   "codemirror_mode": {
    "name": "ipython",
    "version": 3
   },
   "file_extension": ".py",
   "mimetype": "text/x-python",
   "name": "python",
   "nbconvert_exporter": "python",
   "pygments_lexer": "ipython3",
   "version": "3.10.10"
  },
  "orig_nbformat": 4
 },
 "nbformat": 4,
 "nbformat_minor": 2
}
