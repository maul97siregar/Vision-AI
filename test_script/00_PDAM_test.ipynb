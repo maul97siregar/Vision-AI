{
 "cells": [
  {
   "cell_type": "markdown",
   "metadata": {},
   "source": [
    "# PDAM TEST VER: 01\n",
    "\n",
    "# 18/09/2023\n",
    "\n",
    "- model_pdam v1.0.1 -> 1.0.2\n",
    "\n",
    "Outline:\n",
    "\n",
    "- add key tag bln ini to model\n",
    "\n",
    "# 14/9/2023\n",
    "\n",
    "- model_pdam v1.0.0 -> v1.0.1\n",
    "\n",
    "Outline:\n",
    "\n",
    "- change total tagihan to bill before tax, etc [Fixed]\n",
    "\n",
    "# 13/9/2023\n",
    "\n",
    "- NER V1.0.0 -> V1.0.1\n",
    "- OCR V1.0.0 -> V1.0.0\n",
    "\n",
    "Outline:\n",
    "\n",
    "- fill pemakaian 2 hasilnya salah padahal awal dan akhir sudah benar, idx: 33 [Status: Fixed]\n",
    "- bill harus dihilangkan angka yg desimalnya, contoh IDR 691,440.00' jadi 691440, idx: 8, 9 [Status: Fixed]\n",
    "- improved levenshtein untuk key yang memiliki value number, (r\"F:\\Project_Base\\oneapps\\Backend\\Vision\\test_images\\pdam\\13-9-2023\\*\") idx: 2 [Status: Fixed]"
   ]
  },
  {
   "cell_type": "markdown",
   "metadata": {},
   "source": [
    "# IMPORT"
   ]
  },
  {
   "cell_type": "code",
   "execution_count": 7,
   "metadata": {},
   "outputs": [],
   "source": [
    "import os\n",
    "os.chdir(r'F:\\Project_Base\\oneapps\\Backend\\Vision')\n",
    "\n",
    "import model_predict\n",
    "import spacy\n",
    "import time\n",
    "import requests\n",
    "import json\n",
    "import glob\n",
    "import pandas as pd\n",
    "from tqdm.notebook import tqdm\n",
    "\n",
    "def load_model():\n",
    "    start_time = time.time()\n",
    "    model_folder = r'F:\\Project_Base\\oneapps\\Backend\\Vision\\data\\model_ner\\model_pdam_1p0p2'\n",
    "    nlp = spacy.load(model_folder)\n",
    "    finish_time_load_model = (time.time() - start_time)\n",
    "    print(f\"time load model: {finish_time_load_model}\")                                                                          \n",
    "    return nlp\n",
    "\n",
    "def predict(img_path, nlp):\n",
    "    result = model_predict.ner_pdam(nlp, img_file=img_path, debug=False, line_sensitivity=0.2)\n",
    "    return result\n",
    "\n",
    "def predict_api(img_path):\n",
    "    url = \"http://127.0.0.1/predict_pdam\"\n",
    "    with open(img_path, 'rb') as img_file:\n",
    "        files = {\"image\" : img_file}\n",
    "        response = requests.post(url, files=files)\n",
    "    return json.loads(response.text)"
   ]
  },
  {
   "cell_type": "markdown",
   "metadata": {},
   "source": [
    "# LOAD MODEL"
   ]
  },
  {
   "cell_type": "code",
   "execution_count": 8,
   "metadata": {},
   "outputs": [],
   "source": [
    "# nlp = load_model()"
   ]
  },
  {
   "cell_type": "markdown",
   "metadata": {},
   "source": [
    "# INPUT LOCATION"
   ]
  },
  {
   "cell_type": "code",
   "execution_count": 9,
   "metadata": {},
   "outputs": [],
   "source": [
    "# for test entire image inside folder\n",
    "# img_path = glob.glob(r\"F:\\NawaAI\\Notebooks\\DEV_NER\\PDAM\\data\\struk_pdam_used\\*\\*\") # masukan folder di sini\n",
    "img_path = glob.glob(r\"F:\\Project_Base\\oneapps\\Backend\\Vision\\test_script\\test_images\\pdam\\21-9-2023\\*\")\n",
    "\n",
    "# for test selected image\n",
    "# img_path = [r'F:\\Project_Base\\oneapps\\Backend\\Vision\\test_images\\pdam\\PUL.JPG', r'F:\\NawaAI\\Notebooks\\DEV_NER\\PDAM\\data\\struk_pdam_used\\pos\\KBM.JPG'] # masukan individual file di sini\n",
    "\n",
    "# pilih tipe testnya, langsung nembak ke modulnya, atau ke api nya\n",
    "# test = 'modul'\n",
    "test = 'api'"
   ]
  },
  {
   "cell_type": "code",
   "execution_count": 10,
   "metadata": {},
   "outputs": [],
   "source": [
    "# STOPP"
   ]
  },
  {
   "cell_type": "markdown",
   "metadata": {},
   "source": [
    "# MODUL & API TEST"
   ]
  },
  {
   "cell_type": "code",
   "execution_count": 11,
   "metadata": {},
   "outputs": [
    {
     "data": {
      "application/vnd.jupyter.widget-view+json": {
       "model_id": "2a5ed171356f4a4d853427b427211419",
       "version_major": 2,
       "version_minor": 0
      },
      "text/plain": [
       "  0%|          | 0/3 [00:00<?, ?it/s]"
      ]
     },
     "metadata": {},
     "output_type": "display_data"
    },
    {
     "name": "stdout",
     "output_type": "stream",
     "text": [
      "0 F:\\Project_Base\\oneapps\\Backend\\Vision\\test_script\\test_images\\pdam\\21-9-2023\\0.png\n"
     ]
    },
    {
     "data": {
      "text/plain": [
       "{'bill': '200000',\n",
       " 'billingtype': 'PDAM_Postpaid',\n",
       " 'custaddress': 'JL . PEMLIDA SELATAN NO.34',\n",
       " 'custname': 'LUKITO SINDORO',\n",
       " 'customerId': '07-16-27007',\n",
       " 'listTransaction': [],\n",
       " 'merchant': 'POS INDONESIA',\n",
       " 'meter_akhir': '4784',\n",
       " 'meter_awal': '4784',\n",
       " 'meter_awal_akhir': [],\n",
       " 'pdamname': 'PDAM KAB . KLATEN',\n",
       " 'periode': '01-09-2022 00:00:00',\n",
       " 'product': 'Water',\n",
       " 'quantity': '0',\n",
       " 'rate': '',\n",
       " 'transactiondate': '05-10-2022 09:38:30',\n",
       " 'transactiontype': 'WATER',\n",
       " 'type': '209.000'}"
      ]
     },
     "metadata": {},
     "output_type": "display_data"
    },
    {
     "name": "stdout",
     "output_type": "stream",
     "text": [
      "1 F:\\Project_Base\\oneapps\\Backend\\Vision\\test_script\\test_images\\pdam\\21-9-2023\\1.png\n"
     ]
    },
    {
     "data": {
      "text/plain": [
       "{'bill': '200000',\n",
       " 'billingtype': 'PDAM_Postpaid',\n",
       " 'custaddress': 'JL . PEMLIDA SELATAN NO.34',\n",
       " 'custname': 'LUKITO SINDORO',\n",
       " 'customerId': '07-16-27007',\n",
       " 'listTransaction': [],\n",
       " 'merchant': 'POS INDONESIA',\n",
       " 'meter_akhir': '4784',\n",
       " 'meter_awal': '4784',\n",
       " 'meter_awal_akhir': [],\n",
       " 'pdamname': 'PDAM KAB . KLATEN',\n",
       " 'periode': '01-09-2022 00:00:00',\n",
       " 'product': 'Water',\n",
       " 'quantity': '0',\n",
       " 'rate': '',\n",
       " 'transactiondate': '05-10-2022 09:38:30',\n",
       " 'transactiontype': 'WATER',\n",
       " 'type': ''}"
      ]
     },
     "metadata": {},
     "output_type": "display_data"
    },
    {
     "name": "stdout",
     "output_type": "stream",
     "text": [
      "2 F:\\Project_Base\\oneapps\\Backend\\Vision\\test_script\\test_images\\pdam\\21-9-2023\\2.png\n"
     ]
    },
    {
     "data": {
      "text/plain": [
       "{'bill': '200000',\n",
       " 'billingtype': 'PDAM_Postpaid',\n",
       " 'custaddress': 'JL . PEMLIDA SELATAN NO.34',\n",
       " 'custname': 'LUKITO SINDORO',\n",
       " 'customerId': '07-16-27007',\n",
       " 'listTransaction': [],\n",
       " 'merchant': 'POS INDONESIA',\n",
       " 'meter_akhir': '4784',\n",
       " 'meter_awal': '4784',\n",
       " 'meter_awal_akhir': [],\n",
       " 'pdamname': 'PDAM KAB . KLATEN',\n",
       " 'periode': '01-09-2022 00:00:00',\n",
       " 'product': 'Water',\n",
       " 'quantity': '0',\n",
       " 'rate': '',\n",
       " 'transactiondate': '05-10-2022 09:38:30',\n",
       " 'transactiontype': 'WATER',\n",
       " 'type': ''}"
      ]
     },
     "metadata": {},
     "output_type": "display_data"
    }
   ],
   "source": [
    "# untuk menyimpan semua hasil\n",
    "result_all = []\n",
    "# img_path = [img_path[18]]\n",
    "for i, img in enumerate(tqdm(img_path)):\n",
    "    print(i, img)\n",
    "\n",
    "    if test == 'api':\n",
    "        result = predict_api(img)\n",
    "    elif test == 'modul':\n",
    "        result = predict(img, nlp)\n",
    "        \n",
    "    display(result)\n",
    "    result_all.append(result)"
   ]
  },
  {
   "cell_type": "markdown",
   "metadata": {},
   "source": [
    "# STOPPER"
   ]
  },
  {
   "cell_type": "code",
   "execution_count": 12,
   "metadata": {},
   "outputs": [
    {
     "ename": "NameError",
     "evalue": "name 'STOPPP' is not defined",
     "output_type": "error",
     "traceback": [
      "\u001b[1;31m---------------------------------------------------------------------------\u001b[0m",
      "\u001b[1;31mNameError\u001b[0m                                 Traceback (most recent call last)",
      "\u001b[1;32mf:\\Project_Base\\oneapps\\Backend\\Vision\\test_script\\00_PDAM_test.ipynb Cell 12\u001b[0m line \u001b[0;36m1\n\u001b[1;32m----> <a href='vscode-notebook-cell:/f%3A/Project_Base/oneapps/Backend/Vision/test_script/00_PDAM_test.ipynb#X14sZmlsZQ%3D%3D?line=0'>1</a>\u001b[0m STOPPP\n",
      "\u001b[1;31mNameError\u001b[0m: name 'STOPPP' is not defined"
     ]
    }
   ],
   "source": [
    "STOPPP"
   ]
  },
  {
   "cell_type": "code",
   "execution_count": null,
   "metadata": {},
   "outputs": [],
   "source": []
  },
  {
   "cell_type": "markdown",
   "metadata": {},
   "source": [
    "# SHOW NULL SUMMARY"
   ]
  },
  {
   "cell_type": "code",
   "execution_count": null,
   "metadata": {},
   "outputs": [
    {
     "data": {
      "text/plain": [
       "51"
      ]
     },
     "execution_count": 15,
     "metadata": {},
     "output_type": "execute_result"
    }
   ],
   "source": [
    "import sys\n",
    "sys.getsizeof(\"\")"
   ]
  },
  {
   "cell_type": "code",
   "execution_count": null,
   "metadata": {},
   "outputs": [
    {
     "name": "stdout",
     "output_type": "stream",
     "text": [
      "jumlah all data: 54\n",
      "jumlah null: 5\n"
     ]
    },
    {
     "data": {
      "text/plain": [
       "'null detail :'"
      ]
     },
     "metadata": {},
     "output_type": "display_data"
    },
    {
     "data": {
      "text/plain": [
       "{'transactiondate': 0,\n",
       " 'custname': 0,\n",
       " 'custaddress': 0,\n",
       " 'type': 2,\n",
       " 'pdamname': 0,\n",
       " 'periode': 0,\n",
       " 'quantity': 0,\n",
       " 'bill': 0,\n",
       " 'customerId': 0,\n",
       " 'meter_awal': 0,\n",
       " 'meter_akhir': 0,\n",
       " 'meter_awal_akhir': 3,\n",
       " 'merchant': 0,\n",
       " 'billingtype': 0,\n",
       " 'listTransaction': 3,\n",
       " 'transactiontype': 0,\n",
       " 'product': 0,\n",
       " 'rate': 3}"
      ]
     },
     "metadata": {},
     "output_type": "display_data"
    },
    {
     "data": {
      "text/html": [
       "<div>\n",
       "<style scoped>\n",
       "    .dataframe tbody tr th:only-of-type {\n",
       "        vertical-align: middle;\n",
       "    }\n",
       "\n",
       "    .dataframe tbody tr th {\n",
       "        vertical-align: top;\n",
       "    }\n",
       "\n",
       "    .dataframe thead th {\n",
       "        text-align: right;\n",
       "    }\n",
       "</style>\n",
       "<table border=\"1\" class=\"dataframe\">\n",
       "  <thead>\n",
       "    <tr style=\"text-align: right;\">\n",
       "      <th></th>\n",
       "      <th>transactiondate</th>\n",
       "      <th>custname</th>\n",
       "      <th>custaddress</th>\n",
       "      <th>type</th>\n",
       "      <th>pdamname</th>\n",
       "      <th>periode</th>\n",
       "      <th>quantity</th>\n",
       "      <th>bill</th>\n",
       "      <th>customerId</th>\n",
       "      <th>meter_awal</th>\n",
       "      <th>meter_akhir</th>\n",
       "      <th>meter_awal_akhir</th>\n",
       "      <th>merchant</th>\n",
       "      <th>billingtype</th>\n",
       "      <th>listTransaction</th>\n",
       "      <th>transactiontype</th>\n",
       "      <th>product</th>\n",
       "      <th>rate</th>\n",
       "    </tr>\n",
       "  </thead>\n",
       "  <tbody>\n",
       "    <tr>\n",
       "      <th>NER</th>\n",
       "      <td>0</td>\n",
       "      <td>0</td>\n",
       "      <td>0</td>\n",
       "      <td>2</td>\n",
       "      <td>0</td>\n",
       "      <td>0</td>\n",
       "      <td>0</td>\n",
       "      <td>0</td>\n",
       "      <td>0</td>\n",
       "      <td>0</td>\n",
       "      <td>0</td>\n",
       "      <td>3</td>\n",
       "      <td>0</td>\n",
       "      <td>0</td>\n",
       "      <td>3</td>\n",
       "      <td>0</td>\n",
       "      <td>0</td>\n",
       "      <td>3</td>\n",
       "    </tr>\n",
       "  </tbody>\n",
       "</table>\n",
       "</div>"
      ],
      "text/plain": [
       "     transactiondate  custname  custaddress  type  pdamname  periode  \\\n",
       "NER                0         0            0     2         0        0   \n",
       "\n",
       "     quantity  bill  customerId  meter_awal  meter_akhir  meter_awal_akhir  \\\n",
       "NER         0     0           0           0            0                 3   \n",
       "\n",
       "     merchant  billingtype  listTransaction  transactiontype  product  rate  \n",
       "NER         0            0                3                0        0     3  "
      ]
     },
     "metadata": {},
     "output_type": "display_data"
    }
   ],
   "source": [
    "null_value = 0\n",
    "all_data = 0\n",
    "null_detail = {'transactiondate': 0,\n",
    " 'custname': 0,\n",
    " 'custaddress': 0,\n",
    " 'type': 0,\n",
    " 'pdamname': 0,\n",
    " 'periode': 0,\n",
    " 'quantity': 0,\n",
    " 'bill': 0,\n",
    " 'customerId': 0,\n",
    " 'meter_awal': 0,\n",
    " 'meter_akhir': 0,\n",
    " 'meter_awal_akhir': 0,\n",
    " 'merchant': 0,\n",
    " 'billingtype': 0,\n",
    " 'listTransaction': 0,\n",
    " 'transactiontype': 0,\n",
    " 'product': 0,\n",
    " 'rate': 0}\n",
    "\n",
    "for result in result_all:\n",
    "    for ent in result:\n",
    "        if result[ent] == '':\n",
    "            null_value += 1\n",
    "        if not result[ent]:\n",
    "            null_detail[ent] += 1\n",
    "        all_data += 1\n",
    "\n",
    "print(f\"jumlah all data: {all_data}\")\n",
    "print(f\"jumlah null: {null_value}\")\n",
    "display(\"null detail :\", null_detail)\n",
    "\n",
    "df = pd.DataFrame(null_detail, index=['NER'])\n",
    "display(df)"
   ]
  },
  {
   "cell_type": "markdown",
   "metadata": {},
   "source": [
    "# SHOW INDIVIDUAL VALUE"
   ]
  },
  {
   "cell_type": "code",
   "execution_count": null,
   "metadata": {},
   "outputs": [
    {
     "name": "stdout",
     "output_type": "stream",
     "text": [
      "TRANSACTIONDATE:\n",
      "0 05-10-2022 09:38:30 F:\\Project_Base\\oneapps\\Backend\\Vision\\test_script\\test_images\\pdam\\21-9-2023\\0.png\n",
      "1 05-10-2022 09:38:30 F:\\Project_Base\\oneapps\\Backend\\Vision\\test_script\\test_images\\pdam\\21-9-2023\\1.png\n",
      "2 05-10-2022 09:38:30 F:\\Project_Base\\oneapps\\Backend\\Vision\\test_script\\test_images\\pdam\\21-9-2023\\2.png\n",
      "\n",
      "CUSTNAME:\n",
      "0 LUKITO SINDORO F:\\Project_Base\\oneapps\\Backend\\Vision\\test_script\\test_images\\pdam\\21-9-2023\\0.png\n",
      "1 LUKITO SINDORO F:\\Project_Base\\oneapps\\Backend\\Vision\\test_script\\test_images\\pdam\\21-9-2023\\1.png\n",
      "2 LUKITO SINDORO F:\\Project_Base\\oneapps\\Backend\\Vision\\test_script\\test_images\\pdam\\21-9-2023\\2.png\n",
      "\n",
      "CUSTADDRESS:\n",
      "0 JL . PEMLIDA SELATAN NO.34 F:\\Project_Base\\oneapps\\Backend\\Vision\\test_script\\test_images\\pdam\\21-9-2023\\0.png\n",
      "1 JL . PEMLIDA SELATAN NO.34 F:\\Project_Base\\oneapps\\Backend\\Vision\\test_script\\test_images\\pdam\\21-9-2023\\1.png\n",
      "2 JL . PEMLIDA SELATAN NO.34 F:\\Project_Base\\oneapps\\Backend\\Vision\\test_script\\test_images\\pdam\\21-9-2023\\2.png\n",
      "\n",
      "TYPE:\n",
      "0 209.000 F:\\Project_Base\\oneapps\\Backend\\Vision\\test_script\\test_images\\pdam\\21-9-2023\\0.png\n",
      "1  F:\\Project_Base\\oneapps\\Backend\\Vision\\test_script\\test_images\\pdam\\21-9-2023\\1.png\n",
      "2  F:\\Project_Base\\oneapps\\Backend\\Vision\\test_script\\test_images\\pdam\\21-9-2023\\2.png\n",
      "\n",
      "PDAMNAME:\n",
      "0 PDAM KAB . KLATEN F:\\Project_Base\\oneapps\\Backend\\Vision\\test_script\\test_images\\pdam\\21-9-2023\\0.png\n",
      "1 PDAM KAB . KLATEN F:\\Project_Base\\oneapps\\Backend\\Vision\\test_script\\test_images\\pdam\\21-9-2023\\1.png\n",
      "2 PDAM KAB . KLATEN F:\\Project_Base\\oneapps\\Backend\\Vision\\test_script\\test_images\\pdam\\21-9-2023\\2.png\n",
      "\n",
      "PERIODE:\n",
      "0 01-09-2022 00:00:00 F:\\Project_Base\\oneapps\\Backend\\Vision\\test_script\\test_images\\pdam\\21-9-2023\\0.png\n",
      "1 01-09-2022 00:00:00 F:\\Project_Base\\oneapps\\Backend\\Vision\\test_script\\test_images\\pdam\\21-9-2023\\1.png\n",
      "2 01-09-2022 00:00:00 F:\\Project_Base\\oneapps\\Backend\\Vision\\test_script\\test_images\\pdam\\21-9-2023\\2.png\n",
      "\n",
      "QUANTITY:\n",
      "0 0 F:\\Project_Base\\oneapps\\Backend\\Vision\\test_script\\test_images\\pdam\\21-9-2023\\0.png\n",
      "1 0 F:\\Project_Base\\oneapps\\Backend\\Vision\\test_script\\test_images\\pdam\\21-9-2023\\1.png\n",
      "2 0 F:\\Project_Base\\oneapps\\Backend\\Vision\\test_script\\test_images\\pdam\\21-9-2023\\2.png\n",
      "\n",
      "BILL:\n",
      "0 200000 F:\\Project_Base\\oneapps\\Backend\\Vision\\test_script\\test_images\\pdam\\21-9-2023\\0.png\n",
      "1 200000 F:\\Project_Base\\oneapps\\Backend\\Vision\\test_script\\test_images\\pdam\\21-9-2023\\1.png\n",
      "2 200000 F:\\Project_Base\\oneapps\\Backend\\Vision\\test_script\\test_images\\pdam\\21-9-2023\\2.png\n",
      "\n",
      "CUSTOMERID:\n",
      "0 07-16-27007 F:\\Project_Base\\oneapps\\Backend\\Vision\\test_script\\test_images\\pdam\\21-9-2023\\0.png\n",
      "1 07-16-27007 F:\\Project_Base\\oneapps\\Backend\\Vision\\test_script\\test_images\\pdam\\21-9-2023\\1.png\n",
      "2 07-16-27007 F:\\Project_Base\\oneapps\\Backend\\Vision\\test_script\\test_images\\pdam\\21-9-2023\\2.png\n",
      "\n",
      "METER_AWAL:\n",
      "0 4784 F:\\Project_Base\\oneapps\\Backend\\Vision\\test_script\\test_images\\pdam\\21-9-2023\\0.png\n",
      "1 4784 F:\\Project_Base\\oneapps\\Backend\\Vision\\test_script\\test_images\\pdam\\21-9-2023\\1.png\n",
      "2 4784 F:\\Project_Base\\oneapps\\Backend\\Vision\\test_script\\test_images\\pdam\\21-9-2023\\2.png\n",
      "\n",
      "METER_AKHIR:\n",
      "0 4784 F:\\Project_Base\\oneapps\\Backend\\Vision\\test_script\\test_images\\pdam\\21-9-2023\\0.png\n",
      "1 4784 F:\\Project_Base\\oneapps\\Backend\\Vision\\test_script\\test_images\\pdam\\21-9-2023\\1.png\n",
      "2 4784 F:\\Project_Base\\oneapps\\Backend\\Vision\\test_script\\test_images\\pdam\\21-9-2023\\2.png\n",
      "\n",
      "METER_AWAL_AKHIR:\n",
      "0 [] F:\\Project_Base\\oneapps\\Backend\\Vision\\test_script\\test_images\\pdam\\21-9-2023\\0.png\n",
      "1 [] F:\\Project_Base\\oneapps\\Backend\\Vision\\test_script\\test_images\\pdam\\21-9-2023\\1.png\n",
      "2 [] F:\\Project_Base\\oneapps\\Backend\\Vision\\test_script\\test_images\\pdam\\21-9-2023\\2.png\n",
      "\n",
      "MERCHANT:\n",
      "0 POS INDONESIA F:\\Project_Base\\oneapps\\Backend\\Vision\\test_script\\test_images\\pdam\\21-9-2023\\0.png\n",
      "1 POS INDONESIA F:\\Project_Base\\oneapps\\Backend\\Vision\\test_script\\test_images\\pdam\\21-9-2023\\1.png\n",
      "2 POS INDONESIA F:\\Project_Base\\oneapps\\Backend\\Vision\\test_script\\test_images\\pdam\\21-9-2023\\2.png\n",
      "\n",
      "BILLINGTYPE:\n",
      "0 PDAM_Postpaid F:\\Project_Base\\oneapps\\Backend\\Vision\\test_script\\test_images\\pdam\\21-9-2023\\0.png\n",
      "1 PDAM_Postpaid F:\\Project_Base\\oneapps\\Backend\\Vision\\test_script\\test_images\\pdam\\21-9-2023\\1.png\n",
      "2 PDAM_Postpaid F:\\Project_Base\\oneapps\\Backend\\Vision\\test_script\\test_images\\pdam\\21-9-2023\\2.png\n",
      "\n",
      "LISTTRANSACTION:\n",
      "0 [] F:\\Project_Base\\oneapps\\Backend\\Vision\\test_script\\test_images\\pdam\\21-9-2023\\0.png\n",
      "1 [] F:\\Project_Base\\oneapps\\Backend\\Vision\\test_script\\test_images\\pdam\\21-9-2023\\1.png\n",
      "2 [] F:\\Project_Base\\oneapps\\Backend\\Vision\\test_script\\test_images\\pdam\\21-9-2023\\2.png\n",
      "\n",
      "TRANSACTIONTYPE:\n",
      "0 WATER F:\\Project_Base\\oneapps\\Backend\\Vision\\test_script\\test_images\\pdam\\21-9-2023\\0.png\n",
      "1 WATER F:\\Project_Base\\oneapps\\Backend\\Vision\\test_script\\test_images\\pdam\\21-9-2023\\1.png\n",
      "2 WATER F:\\Project_Base\\oneapps\\Backend\\Vision\\test_script\\test_images\\pdam\\21-9-2023\\2.png\n",
      "\n",
      "PRODUCT:\n",
      "0 Water F:\\Project_Base\\oneapps\\Backend\\Vision\\test_script\\test_images\\pdam\\21-9-2023\\0.png\n",
      "1 Water F:\\Project_Base\\oneapps\\Backend\\Vision\\test_script\\test_images\\pdam\\21-9-2023\\1.png\n",
      "2 Water F:\\Project_Base\\oneapps\\Backend\\Vision\\test_script\\test_images\\pdam\\21-9-2023\\2.png\n",
      "\n",
      "RATE:\n",
      "0  F:\\Project_Base\\oneapps\\Backend\\Vision\\test_script\\test_images\\pdam\\21-9-2023\\0.png\n",
      "1  F:\\Project_Base\\oneapps\\Backend\\Vision\\test_script\\test_images\\pdam\\21-9-2023\\1.png\n",
      "2  F:\\Project_Base\\oneapps\\Backend\\Vision\\test_script\\test_images\\pdam\\21-9-2023\\2.png\n",
      "\n"
     ]
    }
   ],
   "source": [
    "values = {'transactiondate': [],\n",
    " 'custname': [],\n",
    " 'custaddress': [],\n",
    " 'type': [],\n",
    " 'pdamname': [],\n",
    " 'periode': [],\n",
    " 'quantity': [],\n",
    " 'bill': [],\n",
    " 'customerId': [],\n",
    " 'meter_awal': [],\n",
    " 'meter_akhir': [],\n",
    " 'meter_awal_akhir': [],\n",
    " 'merchant': [],\n",
    " 'billingtype': [],\n",
    " 'listTransaction': [],\n",
    " 'transactiontype': [],\n",
    " 'product': [],\n",
    " 'rate': []}\n",
    "\n",
    "for res in result_all:\n",
    "    try:\n",
    "        for label in res:\n",
    "            values[label].append(res[label])\n",
    "    except:\n",
    "        pass\n",
    "\n",
    "for label in values:\n",
    "    print(f'{label.upper()}:')\n",
    "    for i, val in enumerate(values[label]):\n",
    "        print(i, val, img_path[i])\n",
    "    print()"
   ]
  },
  {
   "cell_type": "markdown",
   "metadata": {},
   "source": [
    "# NULL VALUE LIST"
   ]
  },
  {
   "cell_type": "markdown",
   "metadata": {},
   "source": [
    "## TIDAK ADA PERIODE\n",
    "\n",
    "- 31: krn 'SEPTEMBER 20122'"
   ]
  },
  {
   "cell_type": "code",
   "execution_count": null,
   "metadata": {},
   "outputs": [
    {
     "ename": "IndexError",
     "evalue": "list index out of range",
     "output_type": "error",
     "traceback": [
      "\u001b[1;31m---------------------------------------------------------------------------\u001b[0m",
      "\u001b[1;31mIndexError\u001b[0m                                Traceback (most recent call last)",
      "\u001b[1;32mf:\\Project_Base\\oneapps\\Backend\\Vision\\test_script\\00_PDAM_test.ipynb Cell 19\u001b[0m line \u001b[0;36m3\n\u001b[0;32m      <a href='vscode-notebook-cell:/f%3A/Project_Base/oneapps/Backend/Vision/test_script/00_PDAM_test.ipynb#X24sZmlsZQ%3D%3D?line=0'>1</a>\u001b[0m idx \u001b[39m=\u001b[39m [\u001b[39m31\u001b[39m]\n\u001b[0;32m      <a href='vscode-notebook-cell:/f%3A/Project_Base/oneapps/Backend/Vision/test_script/00_PDAM_test.ipynb#X24sZmlsZQ%3D%3D?line=1'>2</a>\u001b[0m \u001b[39mfor\u001b[39;00m i \u001b[39min\u001b[39;00m idx:\n\u001b[1;32m----> <a href='vscode-notebook-cell:/f%3A/Project_Base/oneapps/Backend/Vision/test_script/00_PDAM_test.ipynb#X24sZmlsZQ%3D%3D?line=2'>3</a>\u001b[0m     \u001b[39mprint\u001b[39m(img_path[i])\n\u001b[0;32m      <a href='vscode-notebook-cell:/f%3A/Project_Base/oneapps/Backend/Vision/test_script/00_PDAM_test.ipynb#X24sZmlsZQ%3D%3D?line=3'>4</a>\u001b[0m     \u001b[39mif\u001b[39;00m test \u001b[39m==\u001b[39m \u001b[39m'\u001b[39m\u001b[39mapi\u001b[39m\u001b[39m'\u001b[39m:\n\u001b[0;32m      <a href='vscode-notebook-cell:/f%3A/Project_Base/oneapps/Backend/Vision/test_script/00_PDAM_test.ipynb#X24sZmlsZQ%3D%3D?line=4'>5</a>\u001b[0m         result \u001b[39m=\u001b[39m predict_api(img_path[i])\n",
      "\u001b[1;31mIndexError\u001b[0m: list index out of range"
     ]
    }
   ],
   "source": [
    "idx = [31]\n",
    "for i in idx:\n",
    "    print(img_path[i])\n",
    "    if test == 'api':\n",
    "        result = predict_api(img_path[i])\n",
    "    elif test == 'modul':\n",
    "        result = predict(img_path[i], nlp)\n",
    "    display(result)\n",
    "    print(\"=====\"*10)\n",
    "    print()"
   ]
  },
  {
   "cell_type": "markdown",
   "metadata": {},
   "source": [
    "## TIDAK ADA QUANTITY\n",
    "\n",
    "- 20: krn tidak ada meter akhir\n",
    "- 22: krn tidak ada meter awal dan meter akhir\n",
    "- 26: krn tidak ada meter awal dan meter akhir\n",
    "- 36: krn tidak ada meter awal dan meter akhir"
   ]
  },
  {
   "cell_type": "code",
   "execution_count": null,
   "metadata": {},
   "outputs": [
    {
     "name": "stdout",
     "output_type": "stream",
     "text": [
      "20 F:\\NawaAI\\Notebooks\\DEV_NER\\PDAM\\data\\struk_pdam_used\\pos\\bgr.JPG\n"
     ]
    },
    {
     "data": {
      "text/plain": [
       "{'transactiondate': '08-08-2022 13:49:55',\n",
       " 'custname': 'HAMA PT RAYA PERSADA INDAH O. WIDODO . DANIEL',\n",
       " 'custaddress': 'JL IR H JUANDA 12',\n",
       " 'type': '',\n",
       " 'pdamname': '',\n",
       " 'periode': '01-07-2022 00:00:00',\n",
       " 'quantity': '',\n",
       " 'bill': '655300',\n",
       " 'customerId': '11501126',\n",
       " 'meter_awal': '531',\n",
       " 'meter_akhir': '',\n",
       " 'meter_awal_akhir': [],\n",
       " 'merchant': 'POS INDONESIA',\n",
       " 'billingtype': 'PDAM_Postpaid',\n",
       " 'listTransaction': [],\n",
       " 'transactiontype': 'WATER',\n",
       " 'product': 'Water',\n",
       " 'rate': ''}"
      ]
     },
     "metadata": {},
     "output_type": "display_data"
    },
    {
     "name": "stdout",
     "output_type": "stream",
     "text": [
      "==================================================\n",
      "\n",
      "22 F:\\NawaAI\\Notebooks\\DEV_NER\\PDAM\\data\\struk_pdam_used\\pos\\BKT.JPG\n"
     ]
    },
    {
     "data": {
      "text/plain": [
       "{'transactiondate': '09-08-2022 00:00:00',\n",
       " 'custname': 'PT.BANK NIAGA',\n",
       " 'custaddress': '',\n",
       " 'type': 'WK',\n",
       " 'pdamname': '',\n",
       " 'periode': '01-08-2022 00:00:00',\n",
       " 'quantity': '',\n",
       " 'bill': '6225431',\n",
       " 'customerId': '0132170015',\n",
       " 'meter_awal': '',\n",
       " 'meter_akhir': '',\n",
       " 'meter_awal_akhir': [],\n",
       " 'merchant': 'POS INDONESIA',\n",
       " 'billingtype': 'PDAM_Postpaid',\n",
       " 'listTransaction': [],\n",
       " 'transactiontype': 'WATER',\n",
       " 'product': 'Water',\n",
       " 'rate': ''}"
      ]
     },
     "metadata": {},
     "output_type": "display_data"
    },
    {
     "name": "stdout",
     "output_type": "stream",
     "text": [
      "==================================================\n",
      "\n",
      "26 F:\\NawaAI\\Notebooks\\DEV_NER\\PDAM\\data\\struk_pdam_used\\pos\\HGG.JPG\n"
     ]
    },
    {
     "data": {
      "text/plain": [
       "{'transactiondate': '07-10-2022 10:45:34',\n",
       " 'custname': 'D KURNIAWAN',\n",
       " 'custaddress': '',\n",
       " 'type': '',\n",
       " 'pdamname': 'PDAM DKI JAKARTA',\n",
       " 'periode': '01-09-2022 00:00:00',\n",
       " 'quantity': '',\n",
       " 'bill': '120362',\n",
       " 'customerId': '000277969',\n",
       " 'meter_awal': '',\n",
       " 'meter_akhir': '',\n",
       " 'meter_awal_akhir': [],\n",
       " 'merchant': 'POS INDONESIA',\n",
       " 'billingtype': 'PDAM_Postpaid',\n",
       " 'listTransaction': [],\n",
       " 'transactiontype': 'WATER',\n",
       " 'product': 'Water',\n",
       " 'rate': ''}"
      ]
     },
     "metadata": {},
     "output_type": "display_data"
    },
    {
     "name": "stdout",
     "output_type": "stream",
     "text": [
      "==================================================\n",
      "\n",
      "36 F:\\NawaAI\\Notebooks\\DEV_NER\\PDAM\\data\\struk_pdam_used\\pos\\wbc.JPG\n"
     ]
    },
    {
     "data": {
      "text/plain": [
       "{'transactiondate': '09-08-2022 09:41',\n",
       " 'custname': 'PT LIPPO BANK',\n",
       " 'custaddress': '',\n",
       " 'type': '',\n",
       " 'pdamname': 'PDAM PALYJA JAKARTA',\n",
       " 'periode': '01-07-2023 00:00:00',\n",
       " 'quantity': '',\n",
       " 'bill': '4982275',\n",
       " 'customerId': '000314696',\n",
       " 'meter_awal': '',\n",
       " 'meter_akhir': '',\n",
       " 'meter_awal_akhir': [],\n",
       " 'merchant': 'POS INDONESIA',\n",
       " 'billingtype': 'PDAM_Postpaid',\n",
       " 'listTransaction': [],\n",
       " 'transactiontype': 'WATER',\n",
       " 'product': 'Water',\n",
       " 'rate': ''}"
      ]
     },
     "metadata": {},
     "output_type": "display_data"
    },
    {
     "name": "stdout",
     "output_type": "stream",
     "text": [
      "==================================================\n",
      "\n"
     ]
    }
   ],
   "source": [
    "idx = [20, 22, 26, 36]\n",
    "for i in idx:\n",
    "    print(i, img_path[i])\n",
    "    if test == 'api':\n",
    "        result = predict_api(img_path[i])\n",
    "    elif test == 'modul':\n",
    "        result = predict(img_path[i], nlp)\n",
    "    display(result)\n",
    "    print(\"=====\"*10)\n",
    "    print()"
   ]
  },
  {
   "cell_type": "markdown",
   "metadata": {},
   "source": [
    "## TIDAK ADA CUSTOMERID\n",
    "\n",
    "- 8: krn tdk ada customerid\n",
    "- 9: krn tdk ada customerid"
   ]
  },
  {
   "cell_type": "code",
   "execution_count": null,
   "metadata": {},
   "outputs": [
    {
     "name": "stdout",
     "output_type": "stream",
     "text": [
      "8 F:\\NawaAI\\Notebooks\\DEV_NER\\PDAM\\data\\struk_pdam_used\\new_gomobile\\GOMobile_2_page-0001.jpg\n"
     ]
    },
    {
     "data": {
      "text/plain": [
       "{'transactiondate': '15-02-2023 10:20',\n",
       " 'custname': 'PT.SURABAYA LAND',\n",
       " 'custaddress': '',\n",
       " 'type': '',\n",
       " 'pdamname': 'PDAM KOTA SURABAYA',\n",
       " 'periode': '01-02-2023 00:00:00',\n",
       " 'quantity': '59',\n",
       " 'bill': '691440',\n",
       " 'customerId': '',\n",
       " 'meter_awal': '103',\n",
       " 'meter_akhir': '162',\n",
       " 'meter_awal_akhir': [103, 162],\n",
       " 'merchant': 'OCTO',\n",
       " 'billingtype': 'PDAM_Postpaid',\n",
       " 'listTransaction': [],\n",
       " 'transactiontype': 'WATER',\n",
       " 'product': 'Water',\n",
       " 'rate': ''}"
      ]
     },
     "metadata": {},
     "output_type": "display_data"
    },
    {
     "name": "stdout",
     "output_type": "stream",
     "text": [
      "==================================================\n",
      "\n",
      "9 F:\\NawaAI\\Notebooks\\DEV_NER\\PDAM\\data\\struk_pdam_used\\new_gomobile\\go_mobile_1.jpg\n"
     ]
    },
    {
     "data": {
      "text/plain": [
       "{'transactiondate': '31-05-2023 17:22',\n",
       " 'custname': 'NAME JOHANES',\n",
       " 'custaddress': '',\n",
       " 'type': '',\n",
       " 'pdamname': '',\n",
       " 'periode': '01-05-2023 00:00:00',\n",
       " 'quantity': '5',\n",
       " 'bill': '115940',\n",
       " 'customerId': '',\n",
       " 'meter_awal': '7841',\n",
       " 'meter_akhir': '7846',\n",
       " 'meter_awal_akhir': [7841, 7846],\n",
       " 'merchant': 'OCTO',\n",
       " 'billingtype': 'PDAM_Postpaid',\n",
       " 'listTransaction': [],\n",
       " 'transactiontype': 'WATER',\n",
       " 'product': 'Water',\n",
       " 'rate': ''}"
      ]
     },
     "metadata": {},
     "output_type": "display_data"
    },
    {
     "name": "stdout",
     "output_type": "stream",
     "text": [
      "==================================================\n",
      "\n"
     ]
    }
   ],
   "source": [
    "idx = [8, 9]\n",
    "for i in idx:\n",
    "    print(i, img_path[i])\n",
    "    if test == 'api':\n",
    "        result = predict_api(img_path[i])\n",
    "    elif test == 'modul':\n",
    "        result = predict(img_path[i], nlp)\n",
    "    display(result)\n",
    "    print(\"=====\"*10)\n",
    "    print()"
   ]
  },
  {
   "cell_type": "markdown",
   "metadata": {},
   "source": [
    "## TIDAK ADA MERCHANT\n",
    "\n",
    "- 6: krn tdk ada merchant\n",
    "- 17: krn tdk ada merchant\n",
    "- 18: krn tdk ada merchant"
   ]
  },
  {
   "cell_type": "code",
   "execution_count": null,
   "metadata": {},
   "outputs": [
    {
     "data": {
      "text/plain": [
       "True"
      ]
     },
     "execution_count": 12,
     "metadata": {},
     "output_type": "execute_result"
    }
   ],
   "source": [
    "270 == 270.0"
   ]
  },
  {
   "cell_type": "code",
   "execution_count": null,
   "metadata": {},
   "outputs": [
    {
     "name": "stdout",
     "output_type": "stream",
     "text": [
      "6 F:\\NawaAI\\Notebooks\\DEV_NER\\PDAM\\data\\struk_pdam_used\\indomaret\\TKS.JPG\n"
     ]
    },
    {
     "data": {
      "text/plain": [
       "{'transactiondate': '10-08-2022 08:48:01',\n",
       " 'custname': 'LIM TONG CIL',\n",
       " 'custaddress': 'ALARAT KISANUN 120',\n",
       " 'type': '',\n",
       " 'pdamname': 'PDAM KOTA GR',\n",
       " 'periode': '01-07-2022 00:00:00',\n",
       " 'quantity': '46',\n",
       " 'bill': '437500',\n",
       " 'customerId': '0952147967',\n",
       " 'meter_awal': '3025',\n",
       " 'meter_akhir': '3071',\n",
       " 'meter_awal_akhir': [3025, 3071],\n",
       " 'merchant': '',\n",
       " 'billingtype': 'PDAM_Postpaid',\n",
       " 'listTransaction': [],\n",
       " 'transactiontype': 'WATER',\n",
       " 'product': 'Water',\n",
       " 'rate': ''}"
      ]
     },
     "metadata": {},
     "output_type": "display_data"
    },
    {
     "name": "stdout",
     "output_type": "stream",
     "text": [
      "==================================================\n",
      "\n",
      "17 F:\\NawaAI\\Notebooks\\DEV_NER\\PDAM\\data\\struk_pdam_used\\new_tokopedia\\TokPed_2_page-0001.jpg\n"
     ]
    },
    {
     "data": {
      "text/plain": [
       "{'transactiondate': '06-03-2023 11:04',\n",
       " 'custname': 'CIMB NIAGA',\n",
       " 'custaddress': 'CENTRAL EROPA BLOK G / 2',\n",
       " 'type': 'N1',\n",
       " 'pdamname': '',\n",
       " 'periode': '01-02-2023 00:00:00',\n",
       " 'quantity': '11',\n",
       " 'bill': '127200',\n",
       " 'customerId': '16029215',\n",
       " 'meter_awal': '2159',\n",
       " 'meter_akhir': '2170',\n",
       " 'meter_awal_akhir': [],\n",
       " 'merchant': '',\n",
       " 'billingtype': 'PDAM_Postpaid',\n",
       " 'listTransaction': [],\n",
       " 'transactiontype': 'WATER',\n",
       " 'product': 'Water',\n",
       " 'rate': ''}"
      ]
     },
     "metadata": {},
     "output_type": "display_data"
    },
    {
     "name": "stdout",
     "output_type": "stream",
     "text": [
      "==================================================\n",
      "\n",
      "18 F:\\NawaAI\\Notebooks\\DEV_NER\\PDAM\\data\\struk_pdam_used\\new_tokopedia\\TokPed_2_page-0002.jpg\n"
     ]
    },
    {
     "data": {
      "text/plain": [
       "{'transactiondate': '06-03-2023 11:02',\n",
       " 'custname': 'CIMB NIAGA',\n",
       " 'custaddress': 'CENTRAL EROPA BLOK G / 1',\n",
       " 'type': 'N1',\n",
       " 'pdamname': '',\n",
       " 'periode': '01-02-2023 00:00:00',\n",
       " 'quantity': '5',\n",
       " 'bill': '77700',\n",
       " 'customerId': '16029115',\n",
       " 'meter_awal': '950',\n",
       " 'meter_akhir': '955',\n",
       " 'meter_awal_akhir': [],\n",
       " 'merchant': '',\n",
       " 'billingtype': 'PDAM_Postpaid',\n",
       " 'listTransaction': [],\n",
       " 'transactiontype': 'WATER',\n",
       " 'product': 'Water',\n",
       " 'rate': ''}"
      ]
     },
     "metadata": {},
     "output_type": "display_data"
    },
    {
     "name": "stdout",
     "output_type": "stream",
     "text": [
      "==================================================\n",
      "\n"
     ]
    }
   ],
   "source": [
    "idx = [6, 17, 18]\n",
    "for i in idx:\n",
    "    print(i, img_path[i])\n",
    "    if test == 'api':\n",
    "        result = predict_api(img_path[i])\n",
    "    elif test == 'modul':\n",
    "        result = predict(img_path[i], nlp)\n",
    "    display(result)\n",
    "    print(\"=====\"*10)\n",
    "    print()"
   ]
  },
  {
   "cell_type": "markdown",
   "metadata": {},
   "source": [
    "# WRONG VALUE LIST"
   ]
  },
  {
   "cell_type": "markdown",
   "metadata": {},
   "source": [
    "## SALAH QUANTITY\n",
    "\n",
    "- 31: harusnya 277.440 krn key tag bln ini tdk ada textnya, maka akan mengambil ke key yang lain[Status: Unfixed krn yg salah dari struknya]\n",
    "- 34: 839, meter akhir sudah bener 847, meter awal terbaca 8:32, ketika di clean jadi kebaca 8 aja, jadi hasilnya salah [Status: Unfixed krn yg salah dari struknya]\n",
    "\n",
    "- 28: 536.800, krn pemakaian air tdk ada text nya [Status: Fixed, hasil jadi 113]\n",
    "- 33: 1210, sudah bener awal dan akhir tapi pas fill pemakaian 2 hasilnya salah [Status: Fixed, hasil jadi 2]"
   ]
  },
  {
   "cell_type": "code",
   "execution_count": null,
   "metadata": {},
   "outputs": [
    {
     "name": "stdout",
     "output_type": "stream",
     "text": [
      "31 F:\\NawaAI\\Notebooks\\DEV_NER\\PDAM\\data\\struk_pdam_used\\pos\\RYD.JPG\n"
     ]
    },
    {
     "data": {
      "text/plain": [
       "{'transactiondate': '05-10-2022 09:38:26',\n",
       " 'custname': 'PT BANK NIAGA',\n",
       " 'custaddress': 'SLAMET RIYADI 8',\n",
       " 'type': '0FC7720CC0FACBF6C34A8D767ECEEC6D PB',\n",
       " 'pdamname': 'PERUNDA AIR MINUM KOTA SURAKARTA',\n",
       " 'periode': '',\n",
       " 'quantity': '0',\n",
       " 'bill': '67500',\n",
       " 'customerId': '00003263',\n",
       " 'meter_awal': '385',\n",
       " 'meter_akhir': '385',\n",
       " 'meter_awal_akhir': [],\n",
       " 'merchant': 'POS INDONESIA',\n",
       " 'billingtype': 'PDAM_Postpaid',\n",
       " 'listTransaction': [],\n",
       " 'transactiontype': 'WATER',\n",
       " 'product': 'Water',\n",
       " 'rate': ''}"
      ]
     },
     "metadata": {},
     "output_type": "display_data"
    },
    {
     "name": "stdout",
     "output_type": "stream",
     "text": [
      "==================================================\n",
      "\n",
      "34 F:\\NawaAI\\Notebooks\\DEV_NER\\PDAM\\data\\struk_pdam_used\\pos\\STL.JPG\n"
     ]
    },
    {
     "data": {
      "text/plain": [
       "{'transactiondate': '08-08-2022 10:14:41',\n",
       " 'custname': 'PT.BANK CIMB NIAGA TBK',\n",
       " 'custaddress': 'XPNA -0001ELOK A NO.0001',\n",
       " 'type': '',\n",
       " 'pdamname': 'FDAM TIRTA KAHURIPAN',\n",
       " 'periode': '01-07-2022 00:00:00',\n",
       " 'quantity': '15',\n",
       " 'bill': '201500',\n",
       " 'customerId': '23100116',\n",
       " 'meter_awal': '8',\n",
       " 'meter_akhir': '847',\n",
       " 'meter_awal_akhir': [],\n",
       " 'merchant': 'POS INDONESIA',\n",
       " 'billingtype': 'PDAM_Postpaid',\n",
       " 'listTransaction': [],\n",
       " 'transactiontype': 'WATER',\n",
       " 'product': 'Water',\n",
       " 'rate': ''}"
      ]
     },
     "metadata": {},
     "output_type": "display_data"
    },
    {
     "name": "stdout",
     "output_type": "stream",
     "text": [
      "==================================================\n",
      "\n"
     ]
    }
   ],
   "source": [
    "idx = [31, 34]\n",
    "for i in idx:\n",
    "    print(i, img_path[i])\n",
    "    if test == 'api':\n",
    "        result = predict_api(img_path[i])\n",
    "    elif test == 'modul':\n",
    "        result = predict(img_path[i], nlp)\n",
    "    display(result)\n",
    "    print(\"=====\"*10)\n",
    "    print()"
   ]
  },
  {
   "cell_type": "markdown",
   "metadata": {},
   "source": [
    "## SALAH BILL\n",
    "\n",
    "---\n",
    "- 14: 2022, Pemakaian Air ( 8 ) : Rp 100.40 kena validasi krn angka salah [Unfixed, krn salah di struknya]\n",
    "- 19: harusnya tag bln ini, krn Tag Bln Ini tdk ada nilainya jadi ekstraksi dari yg lain [Unfixed, krn salah di struknya]\n",
    "---\n",
    "- 31: 154000, jadi 67.500 [Fixed]\n",
    "- 8: 69144000, krn bill diambil semuanya,  terdapat tanda (, dan .) yang dihapus, harusnya dari angka awal sampai titik saja ngambilnya [Fixed, jadi 691440]\n",
    "- 9: 11594000, sama seperti diatas [Fixed, jadi 115940]\n"
   ]
  },
  {
   "cell_type": "code",
   "execution_count": null,
   "metadata": {},
   "outputs": [
    {
     "name": "stdout",
     "output_type": "stream",
     "text": [
      "14 F:\\NawaAI\\Notebooks\\DEV_NER\\PDAM\\data\\struk_pdam_used\\new_lyonnaise\\SPO.JPG\n"
     ]
    },
    {
     "data": {
      "text/plain": [
       "{'transactiondate': '24-08-2022 00:00:00',\n",
       " 'custname': 'R DELTA IND LTD',\n",
       " 'custaddress': 'TANGGAL HULAI BAYAR 27-08-2022',\n",
       " 'type': '.  / KELOMP 3Q / K4B',\n",
       " 'pdamname': 'PAM LYONNAISE JAYA',\n",
       " 'periode': '01-08-2022 00:00:00',\n",
       " 'quantity': '8',\n",
       " 'bill': '2022',\n",
       " 'customerId': '0209',\n",
       " 'meter_awal': '8394',\n",
       " 'meter_akhir': '8101',\n",
       " 'meter_awal_akhir': [],\n",
       " 'merchant': 'PALYJA',\n",
       " 'billingtype': 'PDAM_Postpaid',\n",
       " 'listTransaction': [],\n",
       " 'transactiontype': 'WATER',\n",
       " 'product': 'Water',\n",
       " 'rate': ''}"
      ]
     },
     "metadata": {},
     "output_type": "display_data"
    },
    {
     "name": "stdout",
     "output_type": "stream",
     "text": [
      "==================================================\n",
      "\n",
      "19 F:\\NawaAI\\Notebooks\\DEV_NER\\PDAM\\data\\struk_pdam_used\\pos\\ADY.JPG\n"
     ]
    },
    {
     "data": {
      "text/plain": [
       "{'transactiondate': '05-09-2022 10:25:53',\n",
       " 'custname': 'GATOT WIBISONO',\n",
       " 'custaddress': 'JEMUR ANDAYANI 53 A',\n",
       " 'type': '40',\n",
       " 'pdamname': 'PDAM KOTA SURABAYA',\n",
       " 'periode': '01-08-2022 00:00:00',\n",
       " 'quantity': '34',\n",
       " 'bill': '303440',\n",
       " 'customerId': '1050029',\n",
       " 'meter_awal': '171',\n",
       " 'meter_akhir': '205',\n",
       " 'meter_awal_akhir': [],\n",
       " 'merchant': 'POS INDONESIA',\n",
       " 'billingtype': 'PDAM_Postpaid',\n",
       " 'listTransaction': [],\n",
       " 'transactiontype': 'WATER',\n",
       " 'product': 'Water',\n",
       " 'rate': ''}"
      ]
     },
     "metadata": {},
     "output_type": "display_data"
    },
    {
     "name": "stdout",
     "output_type": "stream",
     "text": [
      "==================================================\n",
      "\n"
     ]
    }
   ],
   "source": [
    "idx = [14, 19]\n",
    "for i in idx:\n",
    "    print(i, img_path[i])\n",
    "    if test == 'api':\n",
    "        result = predict_api(img_path[i])\n",
    "    elif test == 'modul':\n",
    "        result = predict(img_path[i], nlp)\n",
    "    display(result)\n",
    "    print(\"=====\"*10)\n",
    "    print()"
   ]
  },
  {
   "cell_type": "markdown",
   "metadata": {},
   "source": [
    "# KESIMPULAN YG HARUS DIPERBAIKI\n",
    "\n",
    "# 13/9/2023\n",
    "\n",
    "Fixable error:\n",
    "- fill pemakaian 2 hasilnya salah padahal awal dan akhir sudah benar, idx: 33 [Status: Fixed]\n",
    "- bill harus dihilangkan angka yg desimalnya, contoh IDR 691,440.00' jadi 691440, idx: 8, 9 [Status: Fixed]"
   ]
  },
  {
   "cell_type": "markdown",
   "metadata": {},
   "source": [
    "# STOP"
   ]
  },
  {
   "cell_type": "code",
   "execution_count": null,
   "metadata": {},
   "outputs": [],
   "source": [
    "# STOPPP"
   ]
  },
  {
   "attachments": {},
   "cell_type": "markdown",
   "metadata": {},
   "source": [
    "# FOR FIXING"
   ]
  },
  {
   "cell_type": "markdown",
   "metadata": {},
   "source": [
    "## FIX FILL PEMAKAIAN 2 YG SALAH [FIXED]"
   ]
  },
  {
   "cell_type": "code",
   "execution_count": null,
   "metadata": {},
   "outputs": [
    {
     "name": "stdout",
     "output_type": "stream",
     "text": [
      "33 F:\\NawaAI\\Notebooks\\DEV_NER\\PDAM\\data\\struk_pdam_used\\pos\\SKN.JPG\n"
     ]
    },
    {
     "data": {
      "text/plain": [
       "{'transactiondate': '08-08-2022 13:49:47',\n",
       " 'custname': '12611363',\n",
       " 'custaddress': 'JL SURYAKENCANA 174 A ** FERIODE 1.',\n",
       " 'type': '',\n",
       " 'pdamname': 'PDAM KOTA BOGOR',\n",
       " 'periode': '01-07-2022 00:00:00',\n",
       " 'quantity': '2',\n",
       " 'bill': '81300',\n",
       " 'customerId': '12611363',\n",
       " 'meter_awal': '1210',\n",
       " 'meter_akhir': '1212',\n",
       " 'meter_awal_akhir': [],\n",
       " 'merchant': 'POS INDONESIA',\n",
       " 'billingtype': 'PDAM_Postpaid',\n",
       " 'listTransaction': [],\n",
       " 'transactiontype': 'WATER',\n",
       " 'product': 'Water',\n",
       " 'rate': ''}"
      ]
     },
     "metadata": {},
     "output_type": "display_data"
    },
    {
     "name": "stdout",
     "output_type": "stream",
     "text": [
      "==================================================\n",
      "\n"
     ]
    }
   ],
   "source": [
    "idx = [33]\n",
    "for i in idx:\n",
    "    print(i, img_path[i])\n",
    "    if test == 'api':\n",
    "        result = predict_api(img_path[i])\n",
    "    elif test == 'modul':\n",
    "        result = predict(img_path[i], nlp)\n",
    "    display(result)\n",
    "    print(\"=====\"*10)\n",
    "    print()"
   ]
  },
  {
   "cell_type": "markdown",
   "metadata": {},
   "source": [
    "## FIX ANGKA DESIMAL DI BILL [FIXED]"
   ]
  },
  {
   "cell_type": "code",
   "execution_count": null,
   "metadata": {},
   "outputs": [
    {
     "data": {
      "text/plain": [
       "'691,440'"
      ]
     },
     "execution_count": 18,
     "metadata": {},
     "output_type": "execute_result"
    }
   ],
   "source": [
    "text = \"691,440.00\"\n",
    "\n",
    "def clean_currency_decimal(text):\n",
    "    \"\"\"\n",
    "    cleaning currency\n",
    "    example: IDR 691,440.00' -> 691,440\n",
    "    \"\"\"\n",
    "    if \",\" in text and \".\" in text:\n",
    "        comma_idx = text.find(\",\")\n",
    "        period_idx = text.find(\".\")\n",
    "\n",
    "        if period_idx > comma_idx:\n",
    "            idx_decimal = period_idx\n",
    "        else:\n",
    "            idx_decimal = comma_idx\n",
    "        \n",
    "        if len(text[idx_decimal:]) == 3:\n",
    "            text = text[:idx_decimal]\n",
    "\n",
    "    return text\n",
    "\n",
    "clean_currency_decimal(text)"
   ]
  },
  {
   "cell_type": "code",
   "execution_count": null,
   "metadata": {},
   "outputs": [
    {
     "name": "stdout",
     "output_type": "stream",
     "text": [
      "8 F:\\NawaAI\\Notebooks\\DEV_NER\\PDAM\\data\\struk_pdam_used\\new_gomobile\\GOMobile_2_page-0001.jpg\n"
     ]
    },
    {
     "data": {
      "text/plain": [
       "{'transactiondate': '15-02-2023 10:20',\n",
       " 'custname': 'PT.SURABAYA LAND',\n",
       " 'custaddress': '',\n",
       " 'type': '',\n",
       " 'pdamname': 'PDAM KOTA SURABAYA',\n",
       " 'periode': '01-02-2023 00:00:00',\n",
       " 'quantity': '59',\n",
       " 'bill': '691440',\n",
       " 'customerId': '',\n",
       " 'meter_awal': '103',\n",
       " 'meter_akhir': '162',\n",
       " 'meter_awal_akhir': [103, 162],\n",
       " 'merchant': 'OCTO',\n",
       " 'billingtype': 'PDAM_Postpaid',\n",
       " 'listTransaction': [],\n",
       " 'transactiontype': 'WATER',\n",
       " 'product': 'Water',\n",
       " 'rate': ''}"
      ]
     },
     "metadata": {},
     "output_type": "display_data"
    },
    {
     "name": "stdout",
     "output_type": "stream",
     "text": [
      "==================================================\n",
      "\n",
      "9 F:\\NawaAI\\Notebooks\\DEV_NER\\PDAM\\data\\struk_pdam_used\\new_gomobile\\go_mobile_1.jpg\n"
     ]
    },
    {
     "data": {
      "text/plain": [
       "{'transactiondate': '31-05-2023 17:22',\n",
       " 'custname': 'NAME JOHANES',\n",
       " 'custaddress': '',\n",
       " 'type': '',\n",
       " 'pdamname': '',\n",
       " 'periode': '01-05-2023 00:00:00',\n",
       " 'quantity': '5',\n",
       " 'bill': '115940',\n",
       " 'customerId': '',\n",
       " 'meter_awal': '7841',\n",
       " 'meter_akhir': '7846',\n",
       " 'meter_awal_akhir': [7841, 7846],\n",
       " 'merchant': 'OCTO',\n",
       " 'billingtype': 'PDAM_Postpaid',\n",
       " 'listTransaction': [],\n",
       " 'transactiontype': 'WATER',\n",
       " 'product': 'Water',\n",
       " 'rate': ''}"
      ]
     },
     "metadata": {},
     "output_type": "display_data"
    },
    {
     "name": "stdout",
     "output_type": "stream",
     "text": [
      "==================================================\n",
      "\n"
     ]
    }
   ],
   "source": [
    "idx = [8, 9]\n",
    "for i in idx:\n",
    "    print(i, img_path[i])\n",
    "    if test == 'api':\n",
    "        result = predict_api(img_path[i])\n",
    "    elif test == 'modul':\n",
    "        result = predict(img_path[i], nlp)\n",
    "    display(result)\n",
    "    print(\"=====\"*10)\n",
    "    print()"
   ]
  },
  {
   "cell_type": "markdown",
   "metadata": {},
   "source": [
    "# TEXT LINE TEST"
   ]
  },
  {
   "cell_type": "code",
   "execution_count": null,
   "metadata": {},
   "outputs": [
    {
     "name": "stdout",
     "output_type": "stream",
     "text": [
      "MERCHANT : POS INDONESIA\n",
      "NAMA_PDAM : PDAM KOTA SURABAYA\n",
      "TANGGAL_PEMBAYARAN : 05-09-2022\n",
      "NO_PELANGGAN : NO PELANGGAN : 1050029\n",
      "NAMA_PELANGGAN : NAMA : GATOT WIBISONO\n",
      "ALAMAT_PELANGGAN : ALAMAT : JEMUR ANDAYANI 53 A\n",
      "GOLONGAN : GOL TARIF : 40\n",
      "PERIODE : AGUSTUS 2022\n",
      "METER_AWAL : FETER LALU : 171\n",
      "METER_AKHIR : METER KINI : 205\n",
      "PEMAKAIAN : PEMAKAIAN : 34\n",
      "TOTAL_TAGIHAN : TAG BLN INI RP . 505.000\n",
      "MERCHANT : POS INDONESIA\n"
     ]
    }
   ],
   "source": [
    "# text_line = ['437980343', 'PT FOS INDONESIA ( PERSERO )', 'V', 'Kantor Kp . BOGOR 16000', 'TANDA TERIMA', 'ZAZ', 'PDAM KOTA BOGOR', 'Tanggal # 08-08-2022 13:49:55', 'No.Resi 16000-58 / 2022 / 815893 Petugas 550007815', 'NO PELANGGAN +11501126 Daniel', 'PT RAYA PERSADA INDAH DANTEL O. WIDODO .', 'ALAMAT JL IR H JUANDA 12 BOSM', 'PERIODE = JULI 2022 METERAI', 'METER AWAL 531 CICILAN AIR', '\"', 'PETER AKHIR . 564 Rp .', 'TAGIHAN AIR Rp . 655.300 TOTAL TAGIHAN : Rp . 655.300', 'ADMIN FOS Rp . 2.500 %', 'TOTAL BAYAR : Rp . 657.800', 'MA', '( enam ratus lima puluh tujuh ribu delapan ratus Rupiah )', 'Bukti Pembayaran ini adalah SAH jika sudah dibubuhi CAP FUS', 'Bayarlah Tagihan PDAM Anda Sebelum TANTORIS', 'NESIA', 'NFUP 01.001.620.2-093.000 a.n PT Pos Indonesia', 'Syarat dan ketentuan berlaku Lačak status http://www.posindonesia.co.id', '1000 Al']\n",
    "# text_line = ['PY COPY ( C437980343', 'PT FOS INDONESIA ( PERSERO )', 'V', 'Kantor Kp . BOGOR 16000', 'TANDA TERIMA', '402 .', 'PDAM KOTA BOGOR', 'Tanggal # 08-08-2022 13:49:55', 'No.Resi : 16000-58 / 2022 / 815893 Petugas 550007815', 'NO PELANGGAN +11501126 Daniel', 'PT RAYA PERSADA INDAH DANTEL O. WIDODO .', 'ALAMAT JL IR H JUANDA 12 BOSM', 'PERIODE ... = JULI 2022 METERAI .', 'METER AWAL 531 CICILAN AIR', '4', 'PETER AKHIR . 564 Rp .', 'TAGIHAN AIR Rp . 655.300 TOTAL TAGIHAN : Rp . 655.300', 'ADMIN FOS Rp . 2.500 %', 'TOTAL BAYAR : Rp . 657.800', '( enam ratus lima puluh tujuh ribu delapan ratus Rupiah )', 'Bukti Pembayaran ini adalah SAH jika sudah dibubuhi CAP FUS', 'A', 'Bayarlah Tagihan PDAM Anda Sebelum TANTORIS', 'INDONESIA', 'NFUP 01.001.620.2-093.000 a.n PT Pos Indonesia', 'Syarat dan ketentuan berlaku Lačak status http://www.posindonesia.co.id', '1000 Al']\n",
    "text_line = ['PT POS INDONESIA ( PERSERO ) 9.017.579 295594543',\n",
    "  'Kantor Kp . SURABAYA SELATAN 60300',\n",
    "  'TANDA TERIMA',\n",
    "  'PDAM KOTA SURABAYA',\n",
    "  'Tanggal : 05-09-2022 10:25:53',\n",
    "  'No.Resi : 60300-83 / 2022 / 815362 Petugas : 550007840',\n",
    "  'No Pelanggan : 1050029',\n",
    "  'Nama : GATOT WIBISONO',\n",
    "  'Alamat : JEMUR ANDAYANI 53 A',\n",
    "  'Gol Tarif : 40',\n",
    "  'Hkm Reff : 20220905102439000000 63047464',\n",
    "  'Bln / Thn : AGUSTUS 2022 Ret Kebersihan : Rp ..',\n",
    "  'Feter Lalu : 171 Tunggakan Denda : Rp .',\n",
    "  'Meter Kini : 205 Total Tagihan : Rp . 300.940',\n",
    "  'Pemakaian : 34 Biaya Admin : Rp .',\n",
    "  'Tag Bln Ini Rp . 505.000 Total Bayar : Rp . 303.440',\n",
    "  '( tiga ratus tiga ribu empat ratus empat puluh Rupiah )',\n",
    "  'Bukti pembayaran ini adalah sah jika sudah dibubuhi Cap Tanggal POS',\n",
    "  'Terima kasih telah melakukan pemby tepat waktu',\n",
    "  'KANTORPOS POS INDONESIA',\n",
    "  'Syarat dan ketentuan berlaku Lacak status : http://www.posindonesia.co.id']\n",
    "  \n",
    "text = ' '.join(text_line)\n",
    "doc = nlp(text.upper())\n",
    "for ent in doc.ents:\n",
    "    print(ent.label_, \":\", ent.text)"
   ]
  },
  {
   "cell_type": "code",
   "execution_count": null,
   "metadata": {},
   "outputs": [
    {
     "name": "stdout",
     "output_type": "stream",
     "text": [
      "GOLONGAN: Gol . Tarif / Kelomp 3Q / K4B\n",
      "TOTAL_TAGIHAN: Pemakaian Air ( 8 ) : Rp 100.40\n"
     ]
    }
   ],
   "source": [
    "doc = nlp('Gol . Tarif / Kelomp 3Q / K4B Pemakaian Air ( 8 ) : Rp 100.40')\n",
    "for ent in doc.ents:\n",
    "    print(f\"{ent.label_}: {ent.text}\")"
   ]
  },
  {
   "cell_type": "code",
   "execution_count": null,
   "metadata": {},
   "outputs": [
    {
     "name": "stdout",
     "output_type": "stream",
     "text": [
      "8\n",
      "{}\n"
     ]
    }
   ],
   "source": [
    "from NawaAI.NER import postprocess\n",
    "ents_dict = {}\n",
    "\n",
    "text = \"PEMAKAIAN AIR ( 8 ) : RP 100.400\"\n",
    "clean_total_tagihan = postprocess.get_number(text)\n",
    "print(clean_total_tagihan)\n",
    "if postprocess.currency_validator(clean_total_tagihan):\n",
    "    clean_total_tagihan = postprocess.clean_currency_decimal(clean_total_tagihan)\n",
    "    ents_dict[\"TOTAL_TAGIHAN\"] = clean_total_tagihan.replace(\",\", \"\").replace(\n",
    "        \".\", \"\"\n",
    "    )\n",
    "\n",
    "print(ents_dict)"
   ]
  },
  {
   "cell_type": "code",
   "execution_count": null,
   "metadata": {},
   "outputs": [
    {
     "data": {
      "text/plain": [
       "'123-123'"
      ]
     },
     "execution_count": 23,
     "metadata": {},
     "output_type": "execute_result"
    }
   ],
   "source": [
    "from NawaAI.NER import postprocess\n",
    "text = \"123-123\"\n",
    "\n",
    "postprocess.get_number(text)"
   ]
  }
 ],
 "metadata": {
  "kernelspec": {
   "display_name": "Python 3",
   "language": "python",
   "name": "python3"
  },
  "language_info": {
   "codemirror_mode": {
    "name": "ipython",
    "version": 3
   },
   "file_extension": ".py",
   "mimetype": "text/x-python",
   "name": "python",
   "nbconvert_exporter": "python",
   "pygments_lexer": "ipython3",
   "version": "3.10.10"
  },
  "orig_nbformat": 4
 },
 "nbformat": 4,
 "nbformat_minor": 2
}
